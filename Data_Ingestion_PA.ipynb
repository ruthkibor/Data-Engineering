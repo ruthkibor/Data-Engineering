{
  "nbformat": 4,
  "nbformat_minor": 0,
  "metadata": {
    "colab": {
      "provenance": [],
      "authorship_tag": "ABX9TyOwxoxvWXuT7vZLq/pIv4NH",
      "include_colab_link": true
    },
    "kernelspec": {
      "name": "python3",
      "display_name": "Python 3"
    },
    "language_info": {
      "name": "python"
    }
  },
  "cells": [
    {
      "cell_type": "markdown",
      "metadata": {
        "id": "view-in-github",
        "colab_type": "text"
      },
      "source": [
        "<a href=\"https://colab.research.google.com/github/ruthkibor/Data-Engineering/blob/main/Data_Ingestion_PA.ipynb\" target=\"_parent\"><img src=\"https://colab.research.google.com/assets/colab-badge.svg\" alt=\"Open In Colab\"/></a>"
      ]
    },
    {
      "cell_type": "code",
      "execution_count": 13,
      "metadata": {
        "id": "bis6iAMkpX0s"
      },
      "outputs": [],
      "source": [
        "import requests\n",
        "import pandas as pd\n"
      ]
    },
    {
      "cell_type": "code",
      "source": [
        "res = requests.get(\"https://www.alphavantage.co/query?function=TIME_SERIES_INTRADAY&symbol=IBM&interval=5min&apikey=demo\")\n",
        "data = res.json()"
      ],
      "metadata": {
        "id": "uUD__tF8pqV5"
      },
      "execution_count": 14,
      "outputs": []
    },
    {
      "cell_type": "code",
      "source": [
        "#df = pd.DataFrame(data)\n",
        "#print(df.head())"
      ],
      "metadata": {
        "colab": {
          "base_uri": "https://localhost:8080/"
        },
        "id": "9Jr_buMesX1X",
        "outputId": "1dd3e547-c3e1-4524-ce5d-cba6df4752bc"
      },
      "execution_count": 18,
      "outputs": [
        {
          "output_type": "stream",
          "name": "stdout",
          "text": [
            "                                                           Meta Data  \\\n",
            "1. Information     Intraday (5min) open, high, low, close prices ...   \n",
            "2. Symbol                                                        IBM   \n",
            "3. Last Refreshed                                2024-02-23 19:55:00   \n",
            "4. Interval                                                     5min   \n",
            "5. Output Size                                               Compact   \n",
            "\n",
            "                  Time Series (5min)  \n",
            "1. Information                   NaN  \n",
            "2. Symbol                        NaN  \n",
            "3. Last Refreshed                NaN  \n",
            "4. Interval                      NaN  \n",
            "5. Output Size                   NaN  \n"
          ]
        }
      ]
    },
    {
      "cell_type": "code",
      "source": [
        "def ingest_api(function, symbol, interval):\n",
        "  BASE_URL = \"https://www.alphavantage.co/query?\"\n",
        "  params = {\"function\": function,\n",
        "            \"symbol\": symbol,\n",
        "            \"interval\": interval,\n",
        "            \"apikey\": \"02CXZXNY70IC5P9\"}\n",
        "  res = requests.get(BASE_URL, params = params)\n",
        "  data = res.json()\n",
        "  return data\n",
        "\n",
        "data = ingest_api(\"TIME_SERIES_INTRADAY\", \"AAPL\",\"60min\")\n",
        "print(data)"
      ],
      "metadata": {
        "colab": {
          "base_uri": "https://localhost:8080/"
        },
        "id": "_lP0syNoseeh",
        "outputId": "10eb2eb3-f3ec-45ed-82d1-17a01f45438d"
      },
      "execution_count": 19,
      "outputs": [
        {
          "output_type": "stream",
          "name": "stdout",
          "text": [
            "{'Meta Data': {'1. Information': 'Intraday (60min) open, high, low, close prices and volume', '2. Symbol': 'AAPL', '3. Last Refreshed': '2024-02-23 19:00:00', '4. Interval': '60min', '5. Output Size': 'Compact', '6. Time Zone': 'US/Eastern'}, 'Time Series (60min)': {'2024-02-23 19:00:00': {'1. open': '182.3200', '2. high': '182.3800', '3. low': '182.2300', '4. close': '182.2400', '5. volume': '23482'}, '2024-02-23 18:00:00': {'1. open': '182.3900', '2. high': '182.4000', '3. low': '182.3100', '4. close': '182.3300', '5. volume': '29027'}, '2024-02-23 17:00:00': {'1. open': '182.5500', '2. high': '182.5700', '3. low': '172.8190', '4. close': '182.3500', '5. volume': '654398'}, '2024-02-23 16:00:00': {'1. open': '182.4500', '2. high': '182.9000', '3. low': '182.3500', '4. close': '182.5700', '5. volume': '11389533'}, '2024-02-23 15:00:00': {'1. open': '182.6100', '2. high': '182.8200', '3. low': '182.2300', '4. close': '182.5200', '5. volume': '7672664'}, '2024-02-23 14:00:00': {'1. open': '182.7300', '2. high': '182.7700', '3. low': '182.4300', '4. close': '182.6150', '5. volume': '3242769'}, '2024-02-23 13:00:00': {'1. open': '182.8050', '2. high': '182.9700', '3. low': '182.6000', '4. close': '182.7250', '5. volume': '6412824'}, '2024-02-23 12:00:00': {'1. open': '182.9150', '2. high': '183.0300', '3. low': '182.3100', '4. close': '182.8030', '5. volume': '3885574'}, '2024-02-23 11:00:00': {'1. open': '183.3900', '2. high': '185.0000', '3. low': '182.6400', '4. close': '182.9200', '5. volume': '4824443'}, '2024-02-23 10:00:00': {'1. open': '183.8800', '2. high': '183.9400', '3. low': '182.8000', '4. close': '183.3900', '5. volume': '6109192'}, '2024-02-23 09:00:00': {'1. open': '184.4000', '2. high': '185.3500', '3. low': '182.6800', '4. close': '183.8700', '5. volume': '5168238'}, '2024-02-23 08:00:00': {'1. open': '183.8000', '2. high': '184.5000', '3. low': '183.4350', '4. close': '184.4500', '5. volume': '114970'}, '2024-02-23 07:00:00': {'1. open': '183.8500', '2. high': '184.1900', '3. low': '183.8000', '4. close': '184.0500', '5. volume': '32208'}, '2024-02-23 06:00:00': {'1. open': '183.8500', '2. high': '184.1100', '3. low': '183.7400', '4. close': '183.8400', '5. volume': '29442'}, '2024-02-23 05:00:00': {'1. open': '183.7100', '2. high': '183.9000', '3. low': '183.5700', '4. close': '183.8500', '5. volume': '11453'}, '2024-02-23 04:00:00': {'1. open': '184.2200', '2. high': '184.2200', '3. low': '183.4000', '4. close': '183.7200', '5. volume': '28730'}, '2024-02-22 19:00:00': {'1. open': '184.2000', '2. high': '184.2400', '3. low': '183.7300', '4. close': '184.0000', '5. volume': '21657'}, '2024-02-22 18:00:00': {'1. open': '184.0000', '2. high': '184.3100', '3. low': '183.9300', '4. close': '184.2200', '5. volume': '23659'}, '2024-02-22 17:00:00': {'1. open': '184.2150', '2. high': '184.3700', '3. low': '183.9100', '4. close': '184.0000', '5. volume': '493786'}, '2024-02-22 16:00:00': {'1. open': '184.3710', '2. high': '184.7000', '3. low': '172.4820', '4. close': '184.2000', '5. volume': '15005841'}, '2024-02-22 15:00:00': {'1. open': '184.5500', '2. high': '184.8500', '3. low': '184.1800', '4. close': '184.3600', '5. volume': '10666275'}, '2024-02-22 14:00:00': {'1. open': '184.2100', '2. high': '184.9550', '3. low': '184.1900', '4. close': '184.5450', '5. volume': '4975194'}, '2024-02-22 13:00:00': {'1. open': '183.6100', '2. high': '184.2900', '3. low': '183.1460', '4. close': '184.2180', '5. volume': '4632346'}, '2024-02-22 12:00:00': {'1. open': '182.9500', '2. high': '183.6500', '3. low': '182.7400', '4. close': '183.6200', '5. volume': '4040933'}, '2024-02-22 11:00:00': {'1. open': '182.8700', '2. high': '183.2600', '3. low': '182.4600', '4. close': '182.9500', '5. volume': '4338765'}, '2024-02-22 10:00:00': {'1. open': '183.1300', '2. high': '183.4900', '3. low': '182.7000', '4. close': '182.8600', '5. volume': '6324942'}, '2024-02-22 09:00:00': {'1. open': '183.3700', '2. high': '184.1900', '3. low': '181.1350', '4. close': '183.1300', '5. volume': '6985729'}, '2024-02-22 08:00:00': {'1. open': '183.3000', '2. high': '184.1100', '3. low': '180.1450', '4. close': '183.3800', '5. volume': '906376'}, '2024-02-22 07:00:00': {'1. open': '183.3800', '2. high': '183.5600', '3. low': '183.1600', '4. close': '183.1800', '5. volume': '99538'}, '2024-02-22 06:00:00': {'1. open': '183.1900', '2. high': '183.7500', '3. low': '183.1200', '4. close': '183.4400', '5. volume': '31499'}, '2024-02-22 05:00:00': {'1. open': '183.5500', '2. high': '183.5700', '3. low': '183.0200', '4. close': '183.2200', '5. volume': '35896'}, '2024-02-22 04:00:00': {'1. open': '183.8000', '2. high': '184.0900', '3. low': '183.3500', '4. close': '183.5500', '5. volume': '62109'}, '2024-02-21 19:00:00': {'1. open': '182.4700', '2. high': '182.9800', '3. low': '182.4000', '4. close': '182.9600', '5. volume': '81051'}, '2024-02-21 18:00:00': {'1. open': '182.3600', '2. high': '182.7900', '3. low': '182.0200', '4. close': '182.4700', '5. volume': '467597'}, '2024-02-21 17:00:00': {'1. open': '182.5900', '2. high': '188.5050', '3. low': '180.9000', '4. close': '182.3500', '5. volume': '1717773'}, '2024-02-21 16:00:00': {'1. open': '182.3300', '2. high': '182.7500', '3. low': '176.2650', '4. close': '182.5900', '5. volume': '10584408'}, '2024-02-21 15:00:00': {'1. open': '181.0100', '2. high': '182.3900', '3. low': '180.7580', '4. close': '182.3200', '5. volume': '6571084'}, '2024-02-21 14:00:00': {'1. open': '181.2920', '2. high': '181.4700', '3. low': '180.6600', '4. close': '181.0200', '5. volume': '4248652'}, '2024-02-21 13:00:00': {'1. open': '181.5300', '2. high': '181.7250', '3. low': '181.0600', '4. close': '181.2940', '5. volume': '3152041'}, '2024-02-21 12:00:00': {'1. open': '182.1200', '2. high': '182.1250', '3. low': '181.1800', '4. close': '181.5400', '5. volume': '3374868'}, '2024-02-21 11:00:00': {'1. open': '182.1600', '2. high': '182.5900', '3. low': '181.9800', '4. close': '182.1200', '5. volume': '3925067'}, '2024-02-21 10:00:00': {'1. open': '182.5400', '2. high': '182.8500', '3. low': '182.1300', '4. close': '182.1600', '5. volume': '5441999'}, '2024-02-21 09:00:00': {'1. open': '181.7900', '2. high': '182.8890', '3. low': '181.4000', '4. close': '182.5400', '5. volume': '5620014'}, '2024-02-21 08:00:00': {'1. open': '181.6000', '2. high': '181.9700', '3. low': '180.8800', '4. close': '181.7900', '5. volume': '150394'}, '2024-02-21 07:00:00': {'1. open': '181.5300', '2. high': '181.9700', '3. low': '181.3700', '4. close': '181.6300', '5. volume': '71620'}, '2024-02-21 06:00:00': {'1. open': '181.8000', '2. high': '181.8000', '3. low': '181.4800', '4. close': '181.5300', '5. volume': '27235'}, '2024-02-21 05:00:00': {'1. open': '181.0000', '2. high': '181.7800', '3. low': '181.0000', '4. close': '181.7600', '5. volume': '27452'}, '2024-02-21 04:00:00': {'1. open': '181.9000', '2. high': '181.9000', '3. low': '180.8000', '4. close': '181.0300', '5. volume': '26580'}, '2024-02-20 19:00:00': {'1. open': '181.7200', '2. high': '181.9600', '3. low': '181.6300', '4. close': '181.7400', '5. volume': '32152'}, '2024-02-20 18:00:00': {'1. open': '181.5800', '2. high': '181.8800', '3. low': '181.5500', '4. close': '181.7000', '5. volume': '38952'}, '2024-02-20 17:00:00': {'1. open': '179.1360', '2. high': '193.9530', '3. low': '171.2750', '4. close': '181.5500', '5. volume': '1552606'}, '2024-02-20 16:00:00': {'1. open': '181.6300', '2. high': '194.4460', '3. low': '170.6140', '4. close': '181.6950', '5. volume': '16845494'}, '2024-02-20 15:00:00': {'1. open': '180.9100', '2. high': '181.6600', '3. low': '180.8600', '4. close': '181.6200', '5. volume': '8604483'}, '2024-02-20 14:00:00': {'1. open': '180.7300', '2. high': '180.9100', '3. low': '180.4100', '4. close': '180.9000', '5. volume': '3173429'}, '2024-02-20 13:00:00': {'1. open': '180.7450', '2. high': '180.9500', '3. low': '180.4000', '4. close': '180.7300', '5. volume': '3457599'}, '2024-02-20 12:00:00': {'1. open': '181.1000', '2. high': '181.1260', '3. low': '180.4900', '4. close': '180.7550', '5. volume': '4275220'}, '2024-02-20 11:00:00': {'1. open': '180.7300', '2. high': '181.3700', '3. low': '180.7000', '4. close': '181.0850', '5. volume': '5523252'}, '2024-02-20 10:00:00': {'1. open': '180.8300', '2. high': '180.8350', '3. low': '180.0000', '4. close': '180.7350', '5. volume': '7611966'}, '2024-02-20 09:00:00': {'1. open': '182.2390', '2. high': '182.5600', '3. low': '180.6800', '4. close': '180.8350', '5. volume': '7335172'}, '2024-02-20 08:00:00': {'1. open': '181.6400', '2. high': '184.1950', '3. low': '181.1200', '4. close': '182.2400', '5. volume': '214336'}, '2024-02-20 07:00:00': {'1. open': '181.6200', '2. high': '182.0500', '3. low': '181.5000', '4. close': '181.8700', '5. volume': '69334'}, '2024-02-20 06:00:00': {'1. open': '181.3600', '2. high': '181.6500', '3. low': '181.2500', '4. close': '181.6100', '5. volume': '26199'}, '2024-02-20 05:00:00': {'1. open': '181.4100', '2. high': '181.4500', '3. low': '181.1300', '4. close': '181.3800', '5. volume': '22743'}, '2024-02-20 04:00:00': {'1. open': '180.7000', '2. high': '181.9000', '3. low': '180.7000', '4. close': '181.4100', '5. volume': '53260'}, '2024-02-16 19:00:00': {'1. open': '182.1000', '2. high': '182.1500', '3. low': '181.9100', '4. close': '181.9600', '5. volume': '31360'}, '2024-02-16 18:00:00': {'1. open': '182.1100', '2. high': '182.1800', '3. low': '182.0320', '4. close': '182.0500', '5. volume': '23656'}, '2024-02-16 17:00:00': {'1. open': '182.1400', '2. high': '182.3100', '3. low': '175.1170', '4. close': '182.0800', '5. volume': '1069825'}, '2024-02-16 16:00:00': {'1. open': '182.3100', '2. high': '182.3100', '3. low': '173.4190', '4. close': '182.1300', '5. volume': '13810007'}, '2024-02-16 15:00:00': {'1. open': '182.1900', '2. high': '182.4200', '3. low': '181.6650', '4. close': '182.2900', '5. volume': '7154122'}, '2024-02-16 14:00:00': {'1. open': '182.9000', '2. high': '183.1970', '3. low': '182.0300', '4. close': '182.2000', '5. volume': '3901621'}, '2024-02-16 13:00:00': {'1. open': '182.7310', '2. high': '182.9100', '3. low': '182.4800', '4. close': '182.8970', '5. volume': '3724483'}, '2024-02-16 12:00:00': {'1. open': '183.0900', '2. high': '183.1500', '3. low': '182.6350', '4. close': '182.7400', '5. volume': '2958713'}, '2024-02-16 11:00:00': {'1. open': '183.0600', '2. high': '183.4470', '3. low': '182.8400', '4. close': '183.1000', '5. volume': '4414809'}, '2024-02-16 10:00:00': {'1. open': '182.3000', '2. high': '183.3600', '3. low': '181.8600', '4. close': '183.0600', '5. volume': '8373768'}, '2024-02-16 09:00:00': {'1. open': '182.9900', '2. high': '185.1050', '3. low': '181.7800', '4. close': '182.3000', '5. volume': '8202769'}, '2024-02-16 08:00:00': {'1. open': '184.1700', '2. high': '185.4640', '3. low': '182.5200', '4. close': '182.9700', '5. volume': '678258'}, '2024-02-16 07:00:00': {'1. open': '184.5500', '2. high': '184.5500', '3. low': '184.0000', '4. close': '184.0300', '5. volume': '134120'}, '2024-02-16 06:00:00': {'1. open': '185.2600', '2. high': '185.3400', '3. low': '184.4000', '4. close': '184.5500', '5. volume': '74148'}, '2024-02-16 05:00:00': {'1. open': '184.7400', '2. high': '185.4800', '3. low': '184.7100', '4. close': '185.2500', '5. volume': '47848'}, '2024-02-16 04:00:00': {'1. open': '183.9700', '2. high': '184.9000', '3. low': '183.9700', '4. close': '184.7400', '5. volume': '46663'}, '2024-02-15 19:00:00': {'1. open': '184.5750', '2. high': '184.8800', '3. low': '184.3900', '4. close': '184.6300', '5. volume': '70120'}, '2024-02-15 18:00:00': {'1. open': '184.3400', '2. high': '184.7200', '3. low': '184.2200', '4. close': '184.5800', '5. volume': '88148'}, '2024-02-15 17:00:00': {'1. open': '185.2000', '2. high': '185.3800', '3. low': '183.8600', '4. close': '184.3200', '5. volume': '1340159'}, '2024-02-15 16:00:00': {'1. open': '183.9400', '2. high': '198.0240', '3. low': '174.4630', '4. close': '185.1900', '5. volume': '15468331'}, '2024-02-15 15:00:00': {'1. open': '182.3570', '2. high': '184.4900', '3. low': '182.1000', '4. close': '183.9500', '5. volume': '14739576'}, '2024-02-15 14:00:00': {'1. open': '182.1200', '2. high': '182.3650', '3. low': '181.7400', '4. close': '182.3510', '5. volume': '4784701'}, '2024-02-15 13:00:00': {'1. open': '181.7900', '2. high': '182.4600', '3. low': '181.6650', '4. close': '182.1200', '5. volume': '5029327'}, '2024-02-15 12:00:00': {'1. open': '181.7320', '2. high': '182.2500', '3. low': '181.6400', '4. close': '181.7900', '5. volume': '4084381'}, '2024-02-15 11:00:00': {'1. open': '182.0350', '2. high': '182.1600', '3. low': '181.5500', '4. close': '181.7400', '5. volume': '5270818'}, '2024-02-15 10:00:00': {'1. open': '182.0800', '2. high': '182.6700', '3. low': '181.3500', '4. close': '182.0350', '5. volume': '9555125'}, '2024-02-15 09:00:00': {'1. open': '183.1100', '2. high': '186.7100', '3. low': '181.9100', '4. close': '182.0800', '5. volume': '9860748'}, '2024-02-15 08:00:00': {'1. open': '182.5500', '2. high': '184.1500', '3. low': '182.3100', '4. close': '183.0600', '5. volume': '378382'}, '2024-02-15 07:00:00': {'1. open': '182.5900', '2. high': '183.1500', '3. low': '182.5500', '4. close': '183.0800', '5. volume': '88917'}, '2024-02-15 06:00:00': {'1. open': '182.7300', '2. high': '183.0200', '3. low': '182.3100', '4. close': '182.5600', '5. volume': '33080'}, '2024-02-15 05:00:00': {'1. open': '182.8600', '2. high': '182.8700', '3. low': '182.3000', '4. close': '182.7100', '5. volume': '35383'}, '2024-02-15 04:00:00': {'1. open': '182.2100', '2. high': '183.1900', '3. low': '182.2100', '4. close': '182.8800', '5. volume': '54992'}, '2024-02-14 19:00:00': {'1. open': '183.1200', '2. high': '183.3000', '3. low': '183.1000', '4. close': '183.1400', '5. volume': '39209'}, '2024-02-14 18:00:00': {'1. open': '183.3100', '2. high': '183.4000', '3. low': '183.1200', '4. close': '183.1300', '5. volume': '75677'}, '2024-02-14 17:00:00': {'1. open': '182.6400', '2. high': '184.1500', '3. low': '182.4200', '4. close': '183.3500', '5. volume': '856075'}, '2024-02-14 16:00:00': {'1. open': '184.0600', '2. high': '191.5600', '3. low': '172.4470', '4. close': '182.6400', '5. volume': '16550023'}}}\n"
          ]
        }
      ]
    },
    {
      "cell_type": "code",
      "source": [
        "def ingest_api_info(function, symbol, apikey):\n",
        "  BASE_URL = \"https://www.alphavantage.co/query?\"\n",
        "  params = {\"function\": function,\n",
        "            \"symbol\": symbol,\n",
        "            \"apikey\": apikey}\n",
        "  res = requests.get(BASE_URL, params = params)\n",
        "  data = res.json()\n",
        "  return data\n",
        "\n",
        "data1 = ingest_api_info(\"OVERVIEW\", \"MSFT\", \"02CXZXNY70IC5P9\")\n",
        "print(data1)"
      ],
      "metadata": {
        "colab": {
          "base_uri": "https://localhost:8080/"
        },
        "id": "n5kFShm6s6qL",
        "outputId": "6cb9e825-923c-491e-a7ab-c6e6cefbfaf5"
      },
      "execution_count": 20,
      "outputs": [
        {
          "output_type": "stream",
          "name": "stdout",
          "text": [
            "{'Symbol': 'MSFT', 'AssetType': 'Common Stock', 'Name': 'Microsoft Corporation', 'Description': \"Microsoft Corporation is an American multinational technology company which produces computer software, consumer electronics, personal computers, and related services. Its best known software products are the Microsoft Windows line of operating systems, the Microsoft Office suite, and the Internet Explorer and Edge web browsers. Its flagship hardware products are the Xbox video game consoles and the Microsoft Surface lineup of touchscreen personal computers. Microsoft ranked No. 21 in the 2020 Fortune 500 rankings of the largest United States corporations by total revenue; it was the world's largest software maker by revenue as of 2016. It is considered one of the Big Five companies in the U.S. information technology industry, along with Google, Apple, Amazon, and Facebook.\", 'CIK': '789019', 'Exchange': 'NASDAQ', 'Currency': 'USD', 'Country': 'USA', 'Sector': 'TECHNOLOGY', 'Industry': 'SERVICES-PREPACKAGED SOFTWARE', 'Address': 'ONE MICROSOFT WAY, REDMOND, WA, US', 'FiscalYearEnd': 'June', 'LatestQuarter': '2023-12-31', 'MarketCapitalization': '3049006825000', 'EBITDA': '118427001000', 'PERatio': '37.03', 'PEGRatio': '2.384', 'BookValue': '32.06', 'DividendPerShare': '2.86', 'DividendYield': '0.0073', 'EPS': '11.08', 'RevenuePerShareTTM': '30.61', 'ProfitMargin': '0.363', 'OperatingMarginTTM': '0.436', 'ReturnOnAssetsTTM': '0.152', 'ReturnOnEquityTTM': '0.392', 'RevenueTTM': '227583001000', 'GrossProfitTTM': '135620000000', 'DilutedEPSTTM': '11.08', 'QuarterlyEarningsGrowthYOY': '0.332', 'QuarterlyRevenueGrowthYOY': '0.176', 'AnalystTargetPrice': '421.45', 'AnalystRatingStrongBuy': '20', 'AnalystRatingBuy': '30', 'AnalystRatingHold': '4', 'AnalystRatingSell': '0', 'AnalystRatingStrongSell': '0', 'TrailingPE': '37.03', 'ForwardPE': '35.21', 'PriceToSalesRatioTTM': '13.4', 'PriceToBookRatio': '12.8', 'EVToRevenue': '13.43', 'EVToEBITDA': '25.27', 'Beta': '0.899', '52WeekHigh': '420.04', '52WeekLow': '243.61', '50DayMovingAverage': '391.44', '200DayMovingAverage': '350.35', 'SharesOutstanding': '7430440000', 'DividendDate': '2024-03-14', 'ExDividendDate': '2024-02-14'}\n"
          ]
        }
      ]
    },
    {
      "cell_type": "code",
      "source": [],
      "metadata": {
        "id": "pp6EVAgS0Ob4"
      },
      "execution_count": null,
      "outputs": []
    }
  ]
}